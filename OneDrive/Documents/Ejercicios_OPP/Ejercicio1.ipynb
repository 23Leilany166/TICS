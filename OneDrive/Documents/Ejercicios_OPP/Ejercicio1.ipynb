{
 "cells": [
  {
   "cell_type": "markdown",
   "metadata": {},
   "source": [
    "## EJERCICIO 1 CLASE PERSONA"
   ]
  },
  {
   "cell_type": "markdown",
   "metadata": {},
   "source": [
    "- **Clase persona**: Va a recibir 3 atributos:\n",
    "\n",
    " **Nombre**\n",
    "\n",
    " **Apellido Paterno**\n",
    "\n",
    " **Apellido Materno**\n",
    " \n",
    "solo va a tener un metodo que se va a llamar:\n",
    "\n",
    " **full_name()**\n",
    " \n",
    "- **Imprimir**: El nombre completo la primera letra va ir en mayusculas y las demas letra en minusculas "
   ]
  },
  {
   "cell_type": "code",
   "execution_count": 40,
   "metadata": {},
   "outputs": [],
   "source": [
    "class persona:\n",
    "    def __init__(self, name, apellido_P, apellido_M):\n",
    "        self.name = name.title()#Title es para que la primera letra sea mayuscula y las demas minusculas \n",
    "        self.apellido_P = apellido_P.title().strip()\n",
    "        self.apellido_M = apellido_M.title().strip()\n",
    "        \n",
    "    def full_name(self):\n",
    "        print(f\"Mi nombres es: {self.name} {self.apellido_P} {self.apellido_M}\")\n"
   ]
  },
  {
   "cell_type": "code",
   "execution_count": 41,
   "metadata": {},
   "outputs": [
    {
     "name": "stdout",
     "output_type": "stream",
     "text": [
      "Mi nombres es: Leilany Aislinn Sanchez Reyes\n"
     ]
    }
   ],
   "source": [
    "persona1 = persona(\"LEILANY AISLINN\" , \"SANCHEZ\", \"REYES\")\n",
    "persona1.full_name()"
   ]
  },
  {
   "cell_type": "markdown",
   "metadata": {},
   "source": [
    "## CLASE PERSONA CON RETURN"
   ]
  },
  {
   "cell_type": "markdown",
   "metadata": {},
   "source": [
    "- **Return**: Me sirve para regresar la cadena "
   ]
  },
  {
   "cell_type": "code",
   "execution_count": 43,
   "metadata": {},
   "outputs": [],
   "source": [
    "class persona:\n",
    "    def __init__(self, name, apellido_P, apellido_M):\n",
    "        self.name = name.title()#Title es para que la primera letra sea mayuscula y las demas minusculas \n",
    "        self.apellido_P = apellido_P.title().strip()\n",
    "        self.apellido_M = apellido_M.title().strip()\n",
    "        \n",
    "    def __str__(self):\n",
    "        return f\"Mi nombres es: {self.name} {self.apellido_P} {self.apellido_M}\"\n"
   ]
  },
  {
   "cell_type": "code",
   "execution_count": 44,
   "metadata": {},
   "outputs": [
    {
     "name": "stdout",
     "output_type": "stream",
     "text": [
      "Mi nombres es: Leilany Aislinn Sanchez Reyes\n"
     ]
    }
   ],
   "source": [
    "persona1 = persona(\"LEILANY AISLINN\" , \"SANCHEZ\", \"REYES\")\n",
    "print(persona1)"
   ]
  },
  {
   "cell_type": "markdown",
   "metadata": {},
   "source": [
    "## EJERCICIO 2 DOS PUNTOS "
   ]
  },
  {
   "cell_type": "markdown",
   "metadata": {},
   "source": [
    "- **Crear clase**: Se va  a llamar point2D crear un objeto con dos atributos \"x\" y \"y\"\n",
    "- **Va a tener un metodo**: Se va a llamar Calculator_Distance va a recibir dos instancias de la clase y va a calcular la distancia entre los dos puntos.\n",
    "\n",
    "- **Formula**:\n",
    "$$\n",
    "\\mathrm{distancia} = \\sqrt{(x_2 - x_1)^2 + (y_2 - y_1)^2}\n",
    "$$\n",
    "\n"
   ]
  },
  {
   "cell_type": "code",
   "execution_count": 58,
   "metadata": {},
   "outputs": [],
   "source": [
    "import math\n",
    "class Point2D:\n",
    "    def __init__(self, x, y):\n",
    "        self.x = x\n",
    "        self.y = y\n",
    "        \n",
    "    def calculate_distance(self, other):\n",
    "        return math.sqrt((self.x - other.x) ** 2 + (self.y- other.y) ** 2)\n",
    "    "
   ]
  },
  {
   "cell_type": "code",
   "execution_count": 59,
   "metadata": {},
   "outputs": [
    {
     "name": "stdout",
     "output_type": "stream",
     "text": [
      "6.082762530298219\n"
     ]
    }
   ],
   "source": [
    "punto1= Point2D(3, 4)\n",
    "punto2 = Point2D(9,5)\n",
    "print(punto1.calculate_distance(punto2))"
   ]
  },
  {
   "cell_type": "code",
   "execution_count": 60,
   "metadata": {},
   "outputs": [
    {
     "name": "stdout",
     "output_type": "stream",
     "text": [
      "15.0\n"
     ]
    }
   ],
   "source": [
    "punto1= Point2D(-3, 4)\n",
    "punto2 = Point2D(9,-5)\n",
    "print(punto1.calculate_distance(punto2))"
   ]
  },
  {
   "cell_type": "markdown",
   "metadata": {},
   "source": [
    "## EJERCICIO 3 HORAS, MINUTOS Y SEGUNDOS"
   ]
  },
  {
   "cell_type": "markdown",
   "metadata": {},
   "source": [
    "- **Clase time**: Va  a tener 3 atributos:\n",
    "\n",
    "   -**Horas**\n",
    "\n",
    "   -**Minutos**\n",
    "   \n",
    "   -**Segundos**\n",
    "   \n",
    "- **1 metodo**: Se va a llamra Total_Seconds esta metodo nos va a ser la operaciones.\n",
    "- **str**: Lo vamos a utilizara para imprimir en forma de horas **45:14:56**"
   ]
  },
  {
   "cell_type": "code",
   "execution_count": 68,
   "metadata": {},
   "outputs": [],
   "source": [
    "class Horas:\n",
    "    def __init__(self, horas, minutos, segundos):\n",
    "        self.horas = horas\n",
    "        self.minutos = minutos\n",
    "        self.segundos = segundos\n",
    "\n",
    "    def total_segundos(self):\n",
    "        return self.horas * 3600 + self.minutos * 60 + self.segundos\n",
    "\n",
    "    def __str__(self):\n",
    "        return f\"{self.horas:02}:{self.minutos:02}:{self.segundos:02}\"\n",
    "    \n",
    "      "
   ]
  },
  {
   "cell_type": "code",
   "execution_count": 70,
   "metadata": {},
   "outputs": [
    {
     "name": "stdout",
     "output_type": "stream",
     "text": [
      "18:43:16\n",
      "67396\n"
     ]
    }
   ],
   "source": [
    "tiempo_instance = Horas(18, 43, 16)\n",
    "print(tiempo_instance)                \n",
    "print(tiempo_instance.total_segundos())"
   ]
  }
 ],
 "metadata": {
  "kernelspec": {
   "display_name": "base",
   "language": "python",
   "name": "python3"
  },
  "language_info": {
   "codemirror_mode": {
    "name": "ipython",
    "version": 3
   },
   "file_extension": ".py",
   "mimetype": "text/x-python",
   "name": "python",
   "nbconvert_exporter": "python",
   "pygments_lexer": "ipython3",
   "version": "3.11.5"
  }
 },
 "nbformat": 4,
 "nbformat_minor": 2
}
